{
 "cells": [
  {
   "cell_type": "markdown",
   "metadata": {
    "toc": true
   },
   "source": [
    "<h1>Table of Contents<span class=\"tocSkip\"></span></h1>\n",
    "<div class=\"toc\"><ul class=\"toc-item\"><li><span><a href=\"#Looking-at-the-data\" data-toc-modified-id=\"Looking-at-the-data-1\"><span class=\"toc-item-num\">1&nbsp;&nbsp;</span>Looking at the data</a></span></li><li><span><a href=\"#Task-1\" data-toc-modified-id=\"Task-1-2\"><span class=\"toc-item-num\">2&nbsp;&nbsp;</span>Task 1</a></span><ul class=\"toc-item\"><li><span><a href=\"#Task-1.1-(1-point)\" data-toc-modified-id=\"Task-1.1-(1-point)-2.1\"><span class=\"toc-item-num\">2.1&nbsp;&nbsp;</span>Task 1.1 (1 point)</a></span></li><li><span><a href=\"#Question-1.2-(1-point)\" data-toc-modified-id=\"Question-1.2-(1-point)-2.2\"><span class=\"toc-item-num\">2.2&nbsp;&nbsp;</span>Question 1.2 (1 point)</a></span></li><li><span><a href=\"#Question-1.3-(1-point)\" data-toc-modified-id=\"Question-1.3-(1-point)-2.3\"><span class=\"toc-item-num\">2.3&nbsp;&nbsp;</span>Question 1.3 (1 point)</a></span></li><li><span><a href=\"#Try-it-from-your-own-input\" data-toc-modified-id=\"Try-it-from-your-own-input-2.4\"><span class=\"toc-item-num\">2.4&nbsp;&nbsp;</span>Try it from your own input</a></span></li><li><span><a href=\"#Question-1.4-(1-point)\" data-toc-modified-id=\"Question-1.4-(1-point)-2.5\"><span class=\"toc-item-num\">2.5&nbsp;&nbsp;</span>Question 1.4 (1 point)</a></span></li></ul></li><li><span><a href=\"#Task-2\" data-toc-modified-id=\"Task-2-3\"><span class=\"toc-item-num\">3&nbsp;&nbsp;</span>Task 2</a></span></li><li><span><a href=\"#SVD-refesher\" data-toc-modified-id=\"SVD-refesher-4\"><span class=\"toc-item-num\">4&nbsp;&nbsp;</span>SVD refesher</a></span><ul class=\"toc-item\"><li><span><a href=\"#Task-2.1-(1-point)\" data-toc-modified-id=\"Task-2.1-(1-point)-4.1\"><span class=\"toc-item-num\">4.1&nbsp;&nbsp;</span>Task 2.1 (1 point)</a></span></li><li><span><a href=\"#Question-2.2-(1-point)\" data-toc-modified-id=\"Question-2.2-(1-point)-4.2\"><span class=\"toc-item-num\">4.2&nbsp;&nbsp;</span>Question 2.2 (1 point)</a></span></li><li><span><a href=\"#Task-2.3-(1-point)\" data-toc-modified-id=\"Task-2.3-(1-point)-4.3\"><span class=\"toc-item-num\">4.3&nbsp;&nbsp;</span>Task 2.3 (1 point)</a></span></li><li><span><a href=\"#Task-2.4-(1.5-points)\" data-toc-modified-id=\"Task-2.4-(1.5-points)-4.4\"><span class=\"toc-item-num\">4.4&nbsp;&nbsp;</span>Task 2.4 (1.5 points)</a></span></li><li><span><a href=\"#Task-2.5-(1.5-points)\" data-toc-modified-id=\"Task-2.5-(1.5-points)-4.5\"><span class=\"toc-item-num\">4.5&nbsp;&nbsp;</span>Task 2.5 (1.5 points)</a></span></li></ul></li><li><span><a href=\"#Additional-task-(2-extra-points)\" data-toc-modified-id=\"Additional-task-(2-extra-points)-5\"><span class=\"toc-item-num\">5&nbsp;&nbsp;</span>Additional task (2 extra points)</a></span></li></ul></div>"
   ]
  },
  {
   "cell_type": "markdown",
   "metadata": {
    "id": "zJlE7LgVBmUY",
    "nbgrader": {
     "grade": false,
     "grade_id": "cell-85b42325683cce03",
     "locked": true,
     "schema_version": 3,
     "solution": false,
     "task": false
    }
   },
   "source": [
    "# Welcome to the final project!\n",
    "In this notebook you will be asked to use singular value decomposition and SVM to classify images. We will be working with the MNIST numbers dataset, where training data consist of pictures of digits, and the target value is the digit itself."
   ]
  },
  {
   "cell_type": "markdown",
   "metadata": {
    "id": "yXwgZx4zNbRZ",
    "nbgrader": {
     "grade": false,
     "grade_id": "cell-aaabae287f8e07b9",
     "locked": true,
     "schema_version": 3,
     "solution": false,
     "task": false
    }
   },
   "source": [
    "First, we import the necessary libraries."
   ]
  },
  {
   "cell_type": "code",
   "execution_count": 1,
   "metadata": {
    "ExecuteTime": {
     "end_time": "2024-02-21T20:17:44.493408Z",
     "start_time": "2024-02-21T20:17:32.431107Z"
    },
    "id": "kMBwuxiCBmUf"
   },
   "outputs": [],
   "source": [
    "import numpy as np\n",
    "from numpy.linalg import svd\n",
    "import matplotlib.pyplot as plt\n",
    "from sklearn.decomposition import PCA\n",
    "from sklearn.svm import LinearSVC\n",
    "from sklearn.metrics import accuracy_score\n",
    "from sklearn.preprocessing import StandardScaler"
   ]
  },
  {
   "cell_type": "markdown",
   "metadata": {
    "id": "EhpU83qjBrsO"
   },
   "source": [
    "Now, we read both training and test dataset as arrays."
   ]
  },
  {
   "cell_type": "code",
   "execution_count": 2,
   "metadata": {
    "ExecuteTime": {
     "end_time": "2024-02-21T20:17:45.222093Z",
     "start_time": "2024-02-21T20:17:44.524550Z"
    },
    "id": "fg9JsZ70BmUa"
   },
   "outputs": [],
   "source": [
    "data = np.load('mnist.npz')\n",
    "X_test_total, X_train_total, y_train_total, y_test_total = data['x_test'], data['x_train'], data['y_train'], data['y_test']"
   ]
  },
  {
   "cell_type": "markdown",
   "metadata": {
    "id": "M-GsL4osovz3"
   },
   "source": [
    "Let's select two digits that we will be learning to separate, for example 3 and 8."
   ]
  },
  {
   "cell_type": "code",
   "execution_count": 3,
   "metadata": {
    "ExecuteTime": {
     "end_time": "2024-02-21T20:17:45.317847Z",
     "start_time": "2024-02-21T20:17:45.233386Z"
    },
    "id": "oWgDAtcnpA7a"
   },
   "outputs": [],
   "source": [
    "num1, num2 = 3, 8"
   ]
  },
  {
   "cell_type": "markdown",
   "metadata": {
    "id": "0qr-a0lnLCSH"
   },
   "source": [
    "Let us form the lists of indices i such that the target of i-th object of our training data is either num1 or num2. Do the same for the test dataset."
   ]
  },
  {
   "cell_type": "code",
   "execution_count": 4,
   "metadata": {
    "ExecuteTime": {
     "end_time": "2024-02-21T20:19:33.965060Z",
     "start_time": "2024-02-21T20:19:33.309379Z"
    },
    "id": "35Zf01xgpsHq"
   },
   "outputs": [],
   "source": [
    "train_indx = [y == num1 or y == num2 for y in y_train_total]\n",
    "test_indx = [y == num1 or y == num2 for y in y_test_total] # your code here "
   ]
  },
  {
   "cell_type": "markdown",
   "metadata": {
    "id": "CJwF_Ux9LBVK"
   },
   "source": [
    "Form new arrays consisting of the data with the target values num1 and num2 only."
   ]
  },
  {
   "cell_type": "code",
   "execution_count": 5,
   "metadata": {
    "id": "NJuZq_jdooq2"
   },
   "outputs": [],
   "source": [
    "X_train, y_train = X_train_total[train_indx], y_train_total[train_indx]\n",
    "X_test, y_test = X_test_total[test_indx], y_test_total[test_indx] # your code here"
   ]
  },
  {
   "cell_type": "markdown",
   "metadata": {
    "id": "OU0lGhGNBmUl"
   },
   "source": [
    "## Looking at the data"
   ]
  },
  {
   "cell_type": "markdown",
   "metadata": {
    "id": "49qpdwwBNmcO"
   },
   "source": [
    "Let us check the sizes of the datasets and the shape of one image."
   ]
  },
  {
   "cell_type": "code",
   "execution_count": 6,
   "metadata": {
    "colab": {
     "base_uri": "https://localhost:8080/",
     "height": 102
    },
    "id": "hVKvbThsBmUn",
    "outputId": "40a2d397-8757-4329-d7ae-d5a8434d44ca"
   },
   "outputs": [
    {
     "name": "stdout",
     "output_type": "stream",
     "text": [
      "Data shapes: \n",
      "X_train:  (11982, 28, 28)\n",
      "y_train:  (11982,)\n",
      "X_test:  (1984, 28, 28)\n",
      "y_test:  (1984,)\n"
     ]
    }
   ],
   "source": [
    "print('Data shapes: ')\n",
    "print('X_train: ', X_train.shape)\n",
    "print('y_train: ', y_train.shape)\n",
    "print('X_test: ', X_test.shape)\n",
    "print('y_test: ', y_test.shape)"
   ]
  },
  {
   "cell_type": "code",
   "execution_count": 7,
   "metadata": {
    "colab": {
     "base_uri": "https://localhost:8080/",
     "height": 34
    },
    "id": "P1EklRAaBmUr",
    "outputId": "835c6843-fdb0-4233-eef3-389c10a61df5"
   },
   "outputs": [
    {
     "data": {
      "text/plain": [
       "(11982, 1984)"
      ]
     },
     "execution_count": 7,
     "metadata": {},
     "output_type": "execute_result"
    }
   ],
   "source": [
    "n_train = X_train.shape[0]\n",
    "n_test = X_test.shape[0]\n",
    "\n",
    "n_train, n_test"
   ]
  },
  {
   "cell_type": "code",
   "execution_count": 8,
   "metadata": {
    "colab": {
     "base_uri": "https://localhost:8080/",
     "height": 51
    },
    "id": "FZmNEYdDBmUv",
    "outputId": "17de9137-1fef-4bd4-ef41-ed998e47b0c6"
   },
   "outputs": [
    {
     "name": "stdout",
     "output_type": "stream",
     "text": [
      "Shape of one item: \n",
      "(28, 28)\n"
     ]
    }
   ],
   "source": [
    "print('Shape of one item: ')\n",
    "print(X_train[0].shape)"
   ]
  },
  {
   "cell_type": "markdown",
   "metadata": {
    "id": "ERvQjZU5BmU0"
   },
   "source": [
    "Train data are images of digits."
   ]
  },
  {
   "cell_type": "code",
   "execution_count": 9,
   "metadata": {
    "colab": {
     "base_uri": "https://localhost:8080/",
     "height": 441
    },
    "id": "lWsCw2hQBmU0",
    "outputId": "6c9968ce-e647-4fc4-ee06-4ab055cc98e9"
   },
   "outputs": [
    {
     "data": {
      "image/png": "[encoded data removed]",
      "text/plain": [
       "<Figure size 600x600 with 9 Axes>"
      ]
     },
     "metadata": {},
     "output_type": "display_data"
    }
   ],
   "source": [
    "plt.figure(figsize=(6,6))\n",
    "a, b = 3, 3\n",
    "for i in range(a*b):\n",
    "    plt.subplot(b, a, i+1)\n",
    "    plt.imshow(X_train[i], cmap='gray')\n",
    "plt.tight_layout()\n",
    "plt.show()"
   ]
  },
  {
   "cell_type": "markdown",
   "metadata": {
    "id": "mt2hv7PSBmU4"
   },
   "source": [
    "Target values are numbers."
   ]
  },
  {
   "cell_type": "code",
   "execution_count": 10,
   "metadata": {
    "colab": {
     "base_uri": "https://localhost:8080/",
     "height": 34
    },
    "id": "3ZHMwxyHBmU5",
    "outputId": "04e1fff8-5b7a-48c3-9bbe-855d5bf12011"
   },
   "outputs": [
    {
     "data": {
      "text/plain": [
       "array([3, 3, 3, 8, 3, 3, 8, 8, 3], dtype=uint8)"
      ]
     },
     "execution_count": 10,
     "metadata": {},
     "output_type": "execute_result"
    }
   ],
   "source": [
    "y_train[:9]"
   ]
  },
  {
   "cell_type": "markdown",
   "metadata": {
    "id": "D96SG2RlCYjK"
   },
   "source": [
    "## Task 1"
   ]
  },
  {
   "cell_type": "markdown",
   "metadata": {
    "id": "qynX76dNt1NU"
   },
   "source": [
    "### Task 1.1 (1 point)\n",
    "Now our data is 3-dimensional of shape (number of images, n_pixels, n_pixels). To work with PCA and SVM we need to flatten the images by turning each of them into an array of shape (n_pixels x n_pixels, )."
   ]
  },
  {
   "cell_type": "code",
   "execution_count": 11,
   "metadata": {
    "id": "WD9ThdCMBmVG"
   },
   "outputs": [],
   "source": [
    "def flatten_image(X):\n",
    "    return X.reshape(-1) # your code here"
   ]
  },
  {
   "cell_type": "code",
   "execution_count": 12,
   "metadata": {
    "id": "AWAJJfmDBmVK"
   },
   "outputs": [
    {
     "data": {
      "text/plain": [
       "((11982, 784), (1984, 784))"
      ]
     },
     "execution_count": 12,
     "metadata": {},
     "output_type": "execute_result"
    }
   ],
   "source": [
    "X_train_flat = np.array([flatten_image(img) for img in X_train]) # np.array([flatten_image(img) for img in X_train])\n",
    "X_test_flat = np.array([flatten_image(img) for img in X_test]) # your code here\n",
    "X_train_flat.shape, X_test_flat.shape"
   ]
  },
  {
   "cell_type": "markdown",
   "metadata": {
    "id": "3BIAKuWGukeC"
   },
   "source": [
    "PCA works best when the data is scaled (think, why?), so let's scale our data. We will use [StandartScaler](https://scikit-learn.org/stable/modules/generated/sklearn.preprocessing.StandardScaler.html) for it. Note, that scaling replaces a collection of vectors x by the collection of the vectors $x' = (x-M)/D$, where $M$ is the mean vector of\n",
    "the sample, $D$ is the vector of standard deviations of all components of the vectors, and the division is component-wise. So, the scaled collection has the same size as the original one, and each column has 0 mean and unit standard deviation.\n"
   ]
  },
  {
   "cell_type": "code",
   "execution_count": 13,
   "metadata": {
    "id": "AK1W8FecV9KZ"
   },
   "outputs": [],
   "source": [
    "scaler = StandardScaler()\n",
    "X_train_flat = scaler.fit_transform(X_train_flat)\n",
    "X_test_flat = scaler.transform(X_test_flat)"
   ]
  },
  {
   "cell_type": "markdown",
   "metadata": {
    "id": "Qiq0waK2Brsb"
   },
   "source": [
    "### Question 1.2 (1 point)"
   ]
  },
  {
   "cell_type": "markdown",
   "metadata": {
    "id": "aW4UQRSmlCg5"
   },
   "source": [
    "Please write your answer on the impact of scaling below. Why does scaling help PCA? If your idea need some computer experiments for confirmation (say, training and accuracy calculations  with non-scaled data), please provide the code here as well."
   ]
  },
  {
   "cell_type": "markdown",
   "metadata": {
    "id": "EzU4FS2X76e9"
   },
   "source": [
    "***Your answer here.***\n",
    "\n",
    "Feature scaling through standardization, that is also called Z-score normalization, ensures that all features have a mean of 0 and a standard deviation of 1. If one feature has a larger scale than another, it can dominate the variance and influence the principal components disproportionately. By scaling them to a specified range (min-max scaling), we ensure that each feature contributes proportionally to the variance explained by the principal components.\n",
    "\n",
    "The code below demonstrates why scaling does help PCA:"
   ]
  },
  {
   "cell_type": "code",
   "execution_count": 14,
   "metadata": {
    "id": "vlCJN_Pqlb4C"
   },
   "outputs": [
    {
     "data": {
      "image/png": "[encoded data removed]",
      "text/plain": [
       "<Figure size 1800x600 with 2 Axes>"
      ]
     },
     "metadata": {},
     "output_type": "display_data"
    }
   ],
   "source": [
    "plt.figure(figsize=(18, 6))\n",
    "\n",
    "plt.subplot(1, 2, 1)\n",
    "plt.scatter(X_test_flat[:][1], X_train_flat[:][1], color='orange')\n",
    "\n",
    "plt.axvline(np.mean(X_test_flat), color='b', linestyle='dashed', linewidth=1, label='mean')\n",
    "plt.axhline(np.mean(X_train_flat), color='b', linestyle='dashed', linewidth=1)\n",
    "plt.axvline(np.std(X_test_flat), color='g', linestyle='dashed', linewidth=1, label='std')\n",
    "plt.axhline(np.std(X_train_flat), color='g', linestyle='dashed', linewidth=1)\n",
    "\n",
    "plt.title(f'Scaled data; train mean={round(np.mean(X_train_flat))}, train std={round(np.std(X_train_flat))}')\n",
    "plt.legend(loc='upper right')\n",
    "\n",
    "ns_test, ns_train = data['x_test'][test_indx], data['x_train'][train_indx]\n",
    "\n",
    "plt.subplot(1, 2, 2)\n",
    "plt.scatter(ns_test[:][1], ns_train[:][1], color='orange')\n",
    "\n",
    "plt.axvline(np.mean(ns_test), color='b', linestyle='dashed', linewidth=1, label='mean')\n",
    "plt.axhline(np.mean(ns_train), color='b', linestyle='dashed', linewidth=1)\n",
    "plt.axhline(np.std(ns_test), color='g', linestyle='dashed', linewidth=1, label='std')\n",
    "plt.axhline(np.std(ns_train), color='g', linestyle='dashed', linewidth=1)\n",
    "\n",
    "plt.legend(loc='upper right')\n",
    "plt.title(f'Non-scaled data; train mean={round(np.mean(ns_train))}, train std={round(np.std(ns_train))}')\n",
    "\n",
    "plt.show()"
   ]
  },
  {
   "cell_type": "code",
   "execution_count": 15,
   "metadata": {},
   "outputs": [
    {
     "name": "stdout",
     "output_type": "stream",
     "text": [
      "Accuracy on non-scaled test data: 0.9566532258064516\n",
      "Accuracy on standardized test data: 0.9611895161290323\n"
     ]
    }
   ],
   "source": [
    "import warnings\n",
    "warnings.filterwarnings(\"ignore\")\n",
    "\n",
    "def run_model(X_train, X_test, y_train, y_test):\n",
    "    model = LinearSVC()\n",
    "    model.fit(X_train, y_train)\n",
    "    y_pred = model.predict(X_test)\n",
    "    return accuracy_score(y_test, y_pred)\n",
    "\n",
    "ns_train_flat = np.array([flatten_image(img) for img in ns_train])\n",
    "ns_test_flat = np.array([flatten_image(img) for img in ns_test])\n",
    "\n",
    "print(f'Accuracy on non-scaled test data: {run_model(ns_train_flat, ns_test_flat, y_train, y_test)}')\n",
    "print(f'Accuracy on standardized test data: {run_model(X_train_flat, X_test_flat, y_train, y_test)}')"
   ]
  },
  {
   "cell_type": "markdown",
   "metadata": {
    "id": "MPYv0JqzQRKA"
   },
   "source": [
    "Now, we call PCA and reduce the number of components for each vector."
   ]
  },
  {
   "cell_type": "code",
   "execution_count": 16,
   "metadata": {
    "id": "H6s30_saBmVO"
   },
   "outputs": [],
   "source": [
    "pca = PCA(n_components=128, random_state=42)\n",
    "X_train_flat = pca.fit_transform(X_train_flat)"
   ]
  },
  {
   "cell_type": "code",
   "execution_count": 17,
   "metadata": {
    "id": "bKRDnygcBmVS"
   },
   "outputs": [],
   "source": [
    "X_test_flat = pca.transform(X_test_flat)"
   ]
  },
  {
   "cell_type": "code",
   "execution_count": 18,
   "metadata": {
    "colab": {
     "base_uri": "https://localhost:8080/",
     "height": 34
    },
    "id": "MIkIzz4ACjP5",
    "outputId": "dd304091-8823-41a9-e39a-744e9dedaeb0"
   },
   "outputs": [
    {
     "data": {
      "text/plain": [
       "((1984, 128), (1984, 128))"
      ]
     },
     "execution_count": 18,
     "metadata": {},
     "output_type": "execute_result"
    }
   ],
   "source": [
    "X_test_flat.shape, X_test_flat.shape"
   ]
  },
  {
   "cell_type": "markdown",
   "metadata": {
    "id": "HjVucBstBrse"
   },
   "source": [
    "### Question 1.3 (1 point)"
   ]
  },
  {
   "cell_type": "markdown",
   "metadata": {
    "id": "s-g0gIUdV6a4"
   },
   "source": [
    "What is the ratio of the memory used for the data `compressed' by PCA and the one used for the original data?"
   ]
  },
  {
   "cell_type": "code",
   "execution_count": 19,
   "metadata": {},
   "outputs": [
    {
     "data": {
      "image/png": "[encoded data removed]",
      "text/plain": [
       "<Figure size 1800x600 with 1 Axes>"
      ]
     },
     "metadata": {},
     "output_type": "display_data"
    },
    {
     "name": "stdout",
     "output_type": "stream",
     "text": [
      "Ratio of the PCA-compressed data memory vs the original data memory: 26.08%\n"
     ]
    }
   ],
   "source": [
    "# assess variability \n",
    "plt.figure(figsize=(18, 6))\n",
    "plt.plot(np.cumsum(pca.explained_variance_ratio_), color='orange')\n",
    "plt.xlabel('number of components')\n",
    "plt.ylabel('cumul. expl. variance')\n",
    "plt.title(f'Explained variance={np.sum(np.cumsum(pca.explained_variance_ratio_)).round(0)}')\n",
    "plt.show()\n",
    "\n",
    "print(f'Ratio of the PCA-compressed data memory vs the original data memory: {(X_train_flat.nbytes / X_train_total.nbytes):.2%}')"
   ]
  },
  {
   "cell_type": "markdown",
   "metadata": {
    "id": "tExdDvxVQb-8"
   },
   "source": [
    "Now, we use SVM with linear kernel to separate the two classes."
   ]
  },
  {
   "cell_type": "code",
   "execution_count": 20,
   "metadata": {
    "id": "msj7fbHnBmVW"
   },
   "outputs": [
    {
     "name": "stdout",
     "output_type": "stream",
     "text": [
      "CPU times: user 4.17 s, sys: 96.9 ms, total: 4.26 s\n",
      "Wall time: 5.09 s\n"
     ]
    },
    {
     "data": {
      "text/plain": [
       "LinearSVC(random_state=42)"
      ]
     },
     "execution_count": 20,
     "metadata": {},
     "output_type": "execute_result"
    }
   ],
   "source": [
    "%%time\n",
    "clf = LinearSVC(random_state=42)\n",
    "clf.fit(X_train_flat, y_train)"
   ]
  },
  {
   "cell_type": "markdown",
   "metadata": {
    "id": "UiQicIFIQMf3"
   },
   "source": [
    "Now, let us make the predictions and calculate the accuracy, that is, the ratio of the true predictions to the test sample size.  Use [accuracy score](https://scikit-learn.org/stable/modules/generated/sklearn.metrics.accuracy_score.html#sklearn.metrics.accuracy_score) as the quality metric here.\n",
    "\n",
    "$$accuracy(y\\_true, y\\_pred) = \\frac{1}{n}\\sum_{i=1}^n [y\\_true_i=y\\_pred_i],$$ where $[a=b]=1$, if $a=b$, and $0$ otherwise."
   ]
  },
  {
   "cell_type": "code",
   "execution_count": 21,
   "metadata": {
    "id": "IWC3hQAMCcPe"
   },
   "outputs": [
    {
     "name": "stdout",
     "output_type": "stream",
     "text": [
      "Test accuracy:  0.9667338709677415\n"
     ]
    }
   ],
   "source": [
    "y_pred = clf.predict(X_test_flat) # your code here\n",
    "acc = np.sum((y_test == y_pred) / y_test.shape[0]) # your code here\n",
    "print(\"Test accuracy: \", acc)"
   ]
  },
  {
   "cell_type": "markdown",
   "metadata": {
    "id": "s4fOnPmPBmWr"
   },
   "source": [
    "### Try it from your own input\n",
    "Try to make your own dataset. You can either make a photo image of an ink-written digit or draw a digit using a graphical editor of your computer or smartphone. Note that the input picture has to be a white number on a black background, like the numbers in the MNIST dataset. It can be either in png or jpeg format. Replace the sample striwith your file name."
   ]
  },
  {
   "cell_type": "code",
   "execution_count": 22,
   "metadata": {
    "id": "GZSU-t3QBmWs"
   },
   "outputs": [],
   "source": [
    "from scipy import misc\n",
    "from PIL import Image"
   ]
  },
  {
   "cell_type": "code",
   "execution_count": 23,
   "metadata": {
    "id": "uqDp92KzBmWv"
   },
   "outputs": [
    {
     "data": {
      "text/plain": [
       "(28, 28)"
      ]
     },
     "execution_count": 23,
     "metadata": {},
     "output_type": "execute_result"
    }
   ],
   "source": [
    "image = Image.open('/Users/badmoonrising/Desktop/my_digit/8.png').convert('L')\n",
    "new_image = image.resize((28, 28))\n",
    "custom = np.array(new_image)\n",
    "custom.shape"
   ]
  },
  {
   "cell_type": "code",
   "execution_count": 24,
   "metadata": {
    "id": "pYBKXyglBmWz"
   },
   "outputs": [
    {
     "data": {
      "image/png": "[encoded data removed]",
      "text/plain": [
       "<Figure size 640x480 with 1 Axes>"
      ]
     },
     "metadata": {},
     "output_type": "display_data"
    }
   ],
   "source": [
    "plt.imshow(custom, cmap='gray')\n",
    "plt.show()"
   ]
  },
  {
   "cell_type": "markdown",
   "metadata": {
    "id": "qyBWzpsCSJjj"
   },
   "source": [
    "Re-shape your image and make a prediction."
   ]
  },
  {
   "cell_type": "code",
   "execution_count": 25,
   "metadata": {
    "id": "bKy0FPyJ4dg2"
   },
   "outputs": [
    {
     "data": {
      "text/plain": [
       "(1, 128)"
      ]
     },
     "execution_count": 25,
     "metadata": {},
     "output_type": "execute_result"
    }
   ],
   "source": [
    "custom = flatten_image(custom).reshape(1, -1)\n",
    "custom = scaler.transform(custom)\n",
    "custom = pca.transform(custom)\n",
    "custom.shape"
   ]
  },
  {
   "cell_type": "code",
   "execution_count": 26,
   "metadata": {
    "id": "80S853_6BmW3"
   },
   "outputs": [
    {
     "data": {
      "text/plain": [
       "array([3], dtype=uint8)"
      ]
     },
     "execution_count": 26,
     "metadata": {},
     "output_type": "execute_result"
    }
   ],
   "source": [
    "clf.predict(custom)"
   ]
  },
  {
   "cell_type": "markdown",
   "metadata": {
    "id": "6ewG0kFVBrsl"
   },
   "source": [
    "### Question 1.4 (1 point)"
   ]
  },
  {
   "cell_type": "markdown",
   "metadata": {
    "id": "PTwHX91JSUL3"
   },
   "source": [
    "Repeat the above digit recognition procedure with other 5 to 10 hand-written images. Do your experiments confirm the above accuracy estimate? How do you think, why they confirm (or not confirm) it?"
   ]
  },
  {
   "cell_type": "code",
   "execution_count": 27,
   "metadata": {},
   "outputs": [
    {
     "data": {
      "image/png": "[encoded data removed]",
      "text/plain": [
       "<Figure size 640x480 with 1 Axes>"
      ]
     },
     "metadata": {},
     "output_type": "display_data"
    },
    {
     "name": "stdout",
     "output_type": "stream",
     "text": [
      "Digit 1 was not recognized as 3\n"
     ]
    },
    {
     "data": {
      "image/png": "[encoded data removed]",
      "text/plain": [
       "<Figure size 640x480 with 1 Axes>"
      ]
     },
     "metadata": {},
     "output_type": "display_data"
    },
    {
     "name": "stdout",
     "output_type": "stream",
     "text": [
      "Digit 8 was not recognized as 3\n"
     ]
    }
   ],
   "source": [
    "for i in (1,8):\n",
    "    image = Image.open(f'/Users/badmoonrising/Desktop/my_digit/{i}.png').convert('L')\n",
    "    new_image = image.resize((28, 28))\n",
    "    custom = np.array(new_image)\n",
    "    plt.imshow(custom, cmap='gray')\n",
    "    plt.show()\n",
    "    custom = flatten_image(custom).reshape(1,-1)\n",
    "    custom = scaler.transform(custom)\n",
    "    custom = pca.transform(custom)\n",
    "\n",
    "    if i == clf.predict(custom)[0]:\n",
    "        print(f\"Digit {i} was recognized as {clf.predict(custom)[0]}\")\n",
    "\n",
    "    else:\n",
    "        print(f\"Digit {i} was not recognized as {clf.predict(custom)[0]}\")"
   ]
  },
  {
   "cell_type": "markdown",
   "metadata": {
    "id": "Bn8dlIrY7NWe"
   },
   "source": [
    "***Your answer here.***\n",
    "\n",
    "The experiment confirms the accuracy."
   ]
  },
  {
   "cell_type": "markdown",
   "metadata": {
    "id": "OTa1546Jx2J5"
   },
   "source": [
    "## Task 2\n",
    "Now let's try another approach explained [here](https://technodocbox.com/3D_Graphics/77509408-Handwritten-digit-classification-and-reconstruction-of-marred-images-using-singular-value-decomposition.html) in Section 3. For each digit, we create a new matrix $A$ whose columns are flattened images of this digit. The first several (say, 10) columns of the matrix $U$ from SVD decomposition of $A$ represent a collection of \"typical\" images of this digit. Given an unrecognized flatten image, among average typical flattened images we find the closets one. Its target value is considered as a prediction for the target of the unrecognized image."
   ]
  },
  {
   "cell_type": "markdown",
   "metadata": {
    "id": "JTvWQCV8K9qm"
   },
   "source": [
    "## SVD refesher\n",
    "As you may recall from the lectures, SVD of a matrix $A$ is a decomposition:\n",
    "$A = U \\Sigma V^T,$ where $U$ and $V$ are orthogonal matrices. In this method we will be utilizing some properties of SVD."
   ]
  },
  {
   "cell_type": "code",
   "execution_count": 28,
   "metadata": {
    "id": "DA9S5BxlimJy"
   },
   "outputs": [],
   "source": [
    "def getSingularVectorsLeft(matrix, number=10): # let's take first 10 numbers\n",
    "    u,s,v = svd(matrix)\n",
    "    return u[:,:number] # return first _number_ columns of U from SVD of _matrix_"
   ]
  },
  {
   "cell_type": "code",
   "execution_count": 29,
   "metadata": {
    "id": "TXlw7pLMYYNB"
   },
   "outputs": [],
   "source": [
    "def getSingularImage(X_train, y_train, number):\n",
    "    # find images whose target is _number_\n",
    "    im_num = [y == number for y in y_train]\n",
    "    select_images = X_train[im_num]\n",
    "    A = np.zeros((select_images[0].shape[0] ** 2, 1))\n",
    "    for image in select_images:\n",
    "    # iteratively append new column to form matrix A\n",
    "        A = np.hstack((A, np.reshape(image, (len(image)**2, 1))))\n",
    "    A = A[:, 1:]\n",
    "    # left_basis = # get left singular vectors\n",
    "    left_basis = getSingularVectorsLeft(A)\n",
    "    return left_basis"
   ]
  },
  {
   "cell_type": "markdown",
   "metadata": {
    "id": "xUaaUCTNx9ea"
   },
   "source": [
    "Try it first on \"0\"."
   ]
  },
  {
   "cell_type": "code",
   "execution_count": 1,
   "metadata": {
    "id": "CPx60DlKaQ8S"
   },
   "outputs": [
    {
     "ename": "NameError",
     "evalue": "name 'getSingularImage' is not defined",
     "output_type": "error",
     "traceback": [
      "\u001b[0;31m---------------------------------------------------------------------------\u001b[0m",
      "\u001b[0;31mNameError\u001b[0m                                 Traceback (most recent call last)",
      "\u001b[0;32m/var/folders/sk/817v1m3959j4bprl348pbpxh0000gn/T/ipykernel_46069/3502116895.py\u001b[0m in \u001b[0;36m<module>\u001b[0;34m\u001b[0m\n\u001b[0;32m----> 1\u001b[0;31m \u001b[0mleft_basis\u001b[0m \u001b[0;34m=\u001b[0m \u001b[0mgetSingularImage\u001b[0m\u001b[0;34m(\u001b[0m\u001b[0mX_train_total\u001b[0m\u001b[0;34m,\u001b[0m \u001b[0my_train_total\u001b[0m\u001b[0;34m,\u001b[0m \u001b[0;36m0\u001b[0m\u001b[0;34m)\u001b[0m\u001b[0;34m\u001b[0m\u001b[0;34m\u001b[0m\u001b[0m\n\u001b[0m\u001b[1;32m      2\u001b[0m \u001b[0;32massert\u001b[0m \u001b[0mleft_basis\u001b[0m\u001b[0;34m.\u001b[0m\u001b[0mshape\u001b[0m\u001b[0;34m,\u001b[0m \u001b[0;34m(\u001b[0m\u001b[0;36m784\u001b[0m\u001b[0;34m,\u001b[0m \u001b[0;36m10\u001b[0m\u001b[0;34m)\u001b[0m\u001b[0;34m\u001b[0m\u001b[0;34m\u001b[0m\u001b[0m\n",
      "\u001b[0;31mNameError\u001b[0m: name 'getSingularImage' is not defined"
     ]
    }
   ],
   "source": [
    "left_basis = getSingularImage(X_train_total, y_train_total, 0)\n",
    "assert left_basis.shape, (784, 10)"
   ]
  },
  {
   "cell_type": "markdown",
   "metadata": {
    "id": "qeAC9vo8xnMK"
   },
   "source": [
    "### Task 2.1 (1 point)\n",
    "Plot first 9 singular images of the digit 0 taking columns of matrix U and reshaping them back into images 28x28. Use `numpy.reshape`."
   ]
  },
  {
   "cell_type": "code",
   "execution_count": null,
   "metadata": {
    "colab": {
     "base_uri": "https://localhost:8080/",
     "height": 441
    },
    "id": "VyJGHMhUtBpT",
    "outputId": "44ea8371-5be7-495f-c1c1-b7fa95395361"
   },
   "outputs": [],
   "source": [
    "#singular images\n",
    "plt.figure(figsize=(6,6))\n",
    "a, b = 3, 3\n",
    "for i in range(a*b):\n",
    "    plt.subplot(b, a, i+1)\n",
    "    img = left_basis[:,i].reshape(28,28) # ith element of left basis reshaped back to 28x28\n",
    "    plt.imshow(img, cmap='gray')\n",
    "\n",
    "plt.tight_layout()\n",
    "plt.show()"
   ]
  },
  {
   "cell_type": "markdown",
   "metadata": {
    "id": "VjfFEFmzBrso"
   },
   "source": [
    "### Question 2.2 (1 point)"
   ]
  },
  {
   "cell_type": "markdown",
   "metadata": {
    "id": "24b4QGOI7Vmh"
   },
   "source": [
    "Reflect on properties of the columns of $U_k$. What properties do you think are contained in each of them? Draw more singular images to help you make conclusions."
   ]
  },
  {
   "cell_type": "markdown",
   "metadata": {
    "id": "Gst9OJUY7nMa"
   },
   "source": [
    "***Your answer here.***"
   ]
  },
  {
   "cell_type": "markdown",
   "metadata": {
    "id": "cDFZgAv4yLLO"
   },
   "source": [
    "Now let's move on and obtain singular images for all numbers. The matrices $U_k$ from  [the article](https://technodocbox.com/3D_Graphics/77509408-Handwritten-digit-classification-and-reconstruction-of-marred-images-using-singular-value-decomposition.html) are represented as `number_basis_matrices[k]`.\n",
    "This might take a while to finish, feel free to add debug print in your function to know the progress."
   ]
  },
  {
   "cell_type": "code",
   "execution_count": null,
   "metadata": {
    "id": "np3OMUg9hX4L"
   },
   "outputs": [],
   "source": [
    "number_basis_matrices = [getSingularImage(X_train_total, y_train_total, digit) for digit in range(10)] # use getSingularImage funciton to get matrices for all numbers"
   ]
  },
  {
   "cell_type": "markdown",
   "metadata": {
    "id": "3lSYWDSzyZjQ"
   },
   "source": [
    "### Task 2.3 (1 point)\n",
    "Plot the first singular image of each digit, similarly to the previous task."
   ]
  },
  {
   "cell_type": "code",
   "execution_count": null,
   "metadata": {
    "colab": {
     "base_uri": "https://localhost:8080/",
     "height": 441
    },
    "id": "2-TS33OpwHVN",
    "outputId": "8c59364c-adb5-459c-ea73-b494d0506b1a"
   },
   "outputs": [],
   "source": [
    "plt.figure(figsize=(6,6))\n",
    "a, b = 3, 4\n",
    "for i in range(10):\n",
    "    plt.subplot(b, a, i+1)\n",
    "    img = number_basis_matrices[i][:,0].reshape(28,28) # first column of U_k in number_basis_matrices[i] reshaped into 28x28 image\n",
    "    plt.imshow(img, cmap='gray')\n",
    "\n",
    "plt.tight_layout()\n",
    "plt.show()"
   ]
  },
  {
   "cell_type": "code",
   "execution_count": null,
   "metadata": {
    "colab": {
     "base_uri": "https://localhost:8080/",
     "height": 34
    },
    "id": "cKlHDULozHr1",
    "outputId": "29b6691c-a69b-4843-f9d9-f4f89d0bf80b"
   },
   "outputs": [],
   "source": [
    "dim = number_basis_matrices[0].shape[0]\n",
    "print(f\"Dim size: {dim}\")"
   ]
  },
  {
   "cell_type": "markdown",
   "metadata": {
    "id": "T5XFjCNS8wKt"
   },
   "source": [
    "### Task 2.4 (1.5 points)"
   ]
  },
  {
   "cell_type": "markdown",
   "metadata": {
    "id": "g4u-9qERyjR-"
   },
   "source": [
    "Here we calculate the new projection matrix for each $U_k$ to apply later in testing:\n",
    "$pr = (I - U_k \\cdot U_{k}^{T})$. Use `numpy.matmul` for matrix multiplication and `numpy.identity` to create an identity matrix. Please note that this operation might also take some time to finish."
   ]
  },
  {
   "cell_type": "code",
   "execution_count": null,
   "metadata": {
    "id": "_QP7drrelSUz"
   },
   "outputs": [],
   "source": [
    "numeric_values = [np.identity(number_basis_matrices[i].shape[0]) - np.matmul(number_basis_matrices[i], np.transpose(number_basis_matrices[i])) for i in range(10)] # create an array of pr for each number"
   ]
  },
  {
   "cell_type": "markdown",
   "metadata": {
    "id": "BB_nJGgMzTns"
   },
   "source": [
    "### Task 2.5 (1.5 points)\n",
    "Implement function utilizing `numeric_values` matrices to predict labels for unknown images. Use `numpy.norm` and enumerate to iterate over numeric values."
   ]
  },
  {
   "cell_type": "code",
   "execution_count": null,
   "metadata": {
    "id": "tSwJ-iJtlHav"
   },
   "outputs": [],
   "source": [
    "def find_closest(test_value, numeric_values):\n",
    "    stacked_test = test_value.reshape(-1, 1)\n",
    "    # find closest U_k to test_value using norm and return the target digit\n",
    "    \n",
    "    min_distance = np.inf\n",
    "    target = None\n",
    "    \n",
    "    for i, m in enumerate(numeric_values):\n",
    "        distance = np.linalg.norm(np.matmul(m, stacked_test))\n",
    "        if distance < min_distance:\n",
    "            min_distance = distance\n",
    "            target = i\n",
    "\n",
    "    return target"
   ]
  },
  {
   "cell_type": "code",
   "execution_count": null,
   "metadata": {
    "id": "-G_FrYu5o87N"
   },
   "outputs": [],
   "source": [
    "y_pred = np.array([find_closest(test_value, numeric_values) for test_value in X_test]) # find array of predictions for test values and calculate accuracy in the cell below"
   ]
  },
  {
   "cell_type": "code",
   "execution_count": null,
   "metadata": {
    "id": "MO5pFzGcpoIC"
   },
   "outputs": [],
   "source": [
    "acc = accuracy_score(y_test, y_pred)\n",
    "print(f\"Accuracy: {acc:.2%}\")"
   ]
  },
  {
   "cell_type": "markdown",
   "metadata": {
    "id": "RJ_rqkffzvA7"
   },
   "source": [
    "## Additional task (2 extra points)\n",
    "In the first task we trained Linear SVM to separate 3s and 8s. Here you can implement multiclass classification for _all_ numbers in `MNIST`. Use the same function LinearSVC for “one-vs-the-rest” multi-class strategy, see [the documentation](https://scikit-learn.org/stable/modules/svm.html#classification).  Follow the same steps from task 1: scaling, feature selection, training and testing. Is the accuracy of this method greater then the one calculated above?"
   ]
  },
  {
   "cell_type": "markdown",
   "metadata": {
    "id": "-4WYoVtR9kWG"
   },
   "source": [
    "**Note:** Use `random_state=42` for `PCA` and `LinearSVC`. Training `LinearSVC` on all the data might take a while, that's normal."
   ]
  },
  {
   "cell_type": "code",
   "execution_count": null,
   "metadata": {
    "id": "Whp8oDkz--OL"
   },
   "outputs": [],
   "source": [
    "# flatten\n",
    "X_train_tot_flat = np.array([flatten_image(img) for img in X_train_total])\n",
    "X_test_tot_flat = np.array([flatten_image(img) for img in X_test_total])\n",
    "# Scandart Scaler\n",
    "X_train_tot_flat = scaler.fit_transform(X_train_tot_flat)\n",
    "X_test_tot_flat = scaler.transform(X_test_tot_flat)\n",
    "# PCA\n",
    "pca = PCA(n_components=128, random_state=42)\n",
    "X_train_tot_flat = pca.fit_transform(X_train_tot_flat)\n",
    "X_test_tot_flat = pca.transform(X_test_tot_flat)\n",
    "# LinearSVC\n",
    "clf = LinearSVC(random_state=42)\n",
    "clf.fit(X_train_tot_flat, y_train_total)\n",
    "y_pred = clf.predict(X_test_tot_flat)"
   ]
  },
  {
   "cell_type": "code",
   "execution_count": null,
   "metadata": {
    "id": "VtwS1oFs9DwS"
   },
   "outputs": [],
   "source": [
    "acc = np.sum((y_test_total == y_pred) / y_test_total.shape[0])\n",
    "print(f\"Accuracy: {acc:.2%}\") # calculate accuracy"
   ]
  }
 ],
 "metadata": {
  "celltoolbar": "Create Assignment",
  "colab": {
   "provenance": [],
   "toc_visible": true
  },
  "kernelspec": {
   "display_name": "Python 3 (ipykernel)",
   "language": "python",
   "name": "python3"
  },
  "language_info": {
   "codemirror_mode": {
    "name": "ipython",
    "version": 3
   },
   "file_extension": ".py",
   "mimetype": "text/x-python",
   "name": "python",
   "nbconvert_exporter": "python",
   "pygments_lexer": "ipython3",
   "version": "3.9.13"
  },
  "toc": {
   "base_numbering": 1,
   "nav_menu": {},
   "number_sections": true,
   "sideBar": true,
   "skip_h1_title": true,
   "title_cell": "Table of Contents",
   "title_sidebar": "Contents",
   "toc_cell": true,
   "toc_position": {},
   "toc_section_display": true,
   "toc_window_display": false
  }
 },
 "nbformat": 4,
 "nbformat_minor": 1
}
